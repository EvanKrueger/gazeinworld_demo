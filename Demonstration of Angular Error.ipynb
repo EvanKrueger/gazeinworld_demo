{
 "cells": [
  {
   "cell_type": "markdown",
   "metadata": {},
   "source": [
    "# Demonstration of Angular Error in Eye Tracking for VR"
   ]
  },
  {
   "cell_type": "markdown",
   "metadata": {},
   "source": [
    "### Import modules, read in data"
   ]
  },
  {
   "cell_type": "code",
   "execution_count": 1,
   "metadata": {},
   "outputs": [],
   "source": [
    "from modules import performparser as parser\n",
    "from modules import tranformtools as tt\n",
    "import numpy as np\n",
    "\n",
    "# define nan var for \"NaN\"-encoded-floats in dataframe\n",
    "# (quirk of how we save experimental data)\n",
    "nan = float(\"NaN\")\n",
    "\n",
    "# read dict file, save as pandas dataframe\n",
    "datafile = parser.dictFileToDataFrame(\"data/2017-4-14-18-36/exp_data-2017-4-14-18-36.dict\")"
   ]
  },
  {
   "cell_type": "markdown",
   "metadata": {},
   "source": [
    "### Convert Ball Transform to Head-Centered Frame of Reference"
   ]
  },
  {
   "cell_type": "code",
   "execution_count": 3,
   "metadata": {},
   "outputs": [],
   "source": [
    "datafile[\"viewMat_4x4\"] = datafile[\"viewMat_4x4\"].apply(tt.convert4x4)\n",
    "# datafile[\"ballMat_4x4\"] = datafile[\"ballMat_4x4\"].apply(tt.convert4x4)\n",
    "# np.dot(datafile[\"viewMat_4x4\"].I, datafile[\"cycEyeInHead_XYZ\"][0].T)\n"
   ]
  },
  {
   "cell_type": "code",
   "execution_count": 4,
   "metadata": {},
   "outputs": [
    {
     "data": {
      "text/plain": [
       "array([[ 0.99985445, -0.00497819, -0.01632069, -0.91840434],\n",
       "       [ 0.00486998,  0.99996597, -0.00666296,  1.57901931],\n",
       "       [ 0.01635331,  0.00658251,  0.99984461, -0.23688984],\n",
       "       [ 0.        ,  0.        ,  0.        ,  1.        ]])"
      ]
     },
     "execution_count": 4,
     "metadata": {},
     "output_type": "execute_result"
    }
   ],
   "source": [
    "datafile[\"viewMat_4x4\"][0]\n",
    "# np.round(np.dot(datafile[\"viewMat_4x4\"][0].T, datafile[\"ballMat_4x4\"][0]) )"
   ]
  },
  {
   "cell_type": "code",
   "execution_count": 5,
   "metadata": {},
   "outputs": [
    {
     "data": {
      "text/plain": [
       "[0.412024, -0.0965196, 0.906046]"
      ]
     },
     "execution_count": 5,
     "metadata": {},
     "output_type": "execute_result"
    }
   ],
   "source": [
    "datafile[\"cycEyeInHead_XYZ\"][0]"
   ]
  },
  {
   "cell_type": "code",
   "execution_count": 6,
   "metadata": {},
   "outputs": [
    {
     "ename": "SyntaxError",
     "evalue": "invalid syntax (<ipython-input-6-66173f080be9>, line 1)",
     "output_type": "error",
     "traceback": [
      "\u001b[0;36m  File \u001b[0;32m\"<ipython-input-6-66173f080be9>\"\u001b[0;36m, line \u001b[0;32m1\u001b[0m\n\u001b[0;31m    np.append(datafile[\"cycEyeInHead_XYZ\"][0]), np.ones(1))\u001b[0m\n\u001b[0m                                                          ^\u001b[0m\n\u001b[0;31mSyntaxError\u001b[0m\u001b[0;31m:\u001b[0m invalid syntax\n"
     ]
    }
   ],
   "source": [
    "np.append(datafile[\"cycEyeInHead_XYZ\"][0]), np.ones(1))"
   ]
  },
  {
   "cell_type": "code",
   "execution_count": 27,
   "metadata": {},
   "outputs": [
    {
     "data": {
      "text/plain": [
       "array([[ 0.99985445, -0.00497819, -0.01632069, -0.91840434],\n",
       "       [ 0.00486998,  0.99996597, -0.00666296,  1.57901931],\n",
       "       [ 0.01635331,  0.00658251,  0.99984461, -0.23688984],\n",
       "       [ 0.        ,  0.        ,  0.        ,  1.        ]])"
      ]
     },
     "execution_count": 27,
     "metadata": {},
     "output_type": "execute_result"
    }
   ],
   "source": [
    "# np.dot(datafile[\"viewMat_4x4\"][0], np.asarray(datafile[\"leftEyeInHead_XYZ\"][0] + [1]).T)\n",
    "vec = np.linalg.norm(datafile[\"leftEyeInHead_XYZ\"][0] + [0])\n",
    "\n",
    "temp = vec/np.linalg.norm(vec)\n",
    "np.dot(datafile[\"viewMat_4x4\"][0],temp.T)"
   ]
  },
  {
   "cell_type": "code",
   "execution_count": null,
   "metadata": {},
   "outputs": [],
   "source": []
  },
  {
   "cell_type": "code",
   "execution_count": null,
   "metadata": {
    "collapsed": true
   },
   "outputs": [],
   "source": []
  }
 ],
 "metadata": {
  "kernelspec": {
   "display_name": "Python 3",
   "language": "python",
   "name": "python3"
  },
  "language_info": {
   "codemirror_mode": {
    "name": "ipython",
    "version": 3
   },
   "file_extension": ".py",
   "mimetype": "text/x-python",
   "name": "python",
   "nbconvert_exporter": "python",
   "pygments_lexer": "ipython3",
   "version": "3.5.3"
  }
 },
 "nbformat": 4,
 "nbformat_minor": 2
}
