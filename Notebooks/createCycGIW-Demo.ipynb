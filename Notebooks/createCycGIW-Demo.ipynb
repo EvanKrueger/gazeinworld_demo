{
 "cells": [
  {
   "cell_type": "code",
   "execution_count": 1,
   "metadata": {
    "collapsed": false
   },
   "outputs": [
    {
     "data": {
      "text/html": [
       "\n",
       "    <div class=\"bk-root\">\n",
       "        <a href=\"http://bokeh.pydata.org\" target=\"_blank\" class=\"bk-logo bk-logo-small bk-logo-notebook\"></a>\n",
       "        <span id=\"7beeecea-d561-4b41-9191-5af69d35a89c\">Loading BokehJS ...</span>\n",
       "    </div>"
      ]
     },
     "metadata": {},
     "output_type": "display_data"
    },
    {
     "data": {
      "application/javascript": [
       "\n",
       "(function(global) {\n",
       "  function now() {\n",
       "    return new Date();\n",
       "  }\n",
       "\n",
       "  var force = true;\n",
       "\n",
       "  if (typeof (window._bokeh_onload_callbacks) === \"undefined\" || force === true) {\n",
       "    window._bokeh_onload_callbacks = [];\n",
       "    window._bokeh_is_loading = undefined;\n",
       "  }\n",
       "\n",
       "\n",
       "  \n",
       "  if (typeof (window._bokeh_timeout) === \"undefined\" || force === true) {\n",
       "    window._bokeh_timeout = Date.now() + 5000;\n",
       "    window._bokeh_failed_load = false;\n",
       "  }\n",
       "\n",
       "  var NB_LOAD_WARNING = {'data': {'text/html':\n",
       "     \"<div style='background-color: #fdd'>\\n\"+\n",
       "     \"<p>\\n\"+\n",
       "     \"BokehJS does not appear to have successfully loaded. If loading BokehJS from CDN, this \\n\"+\n",
       "     \"may be due to a slow or bad network connection. Possible fixes:\\n\"+\n",
       "     \"</p>\\n\"+\n",
       "     \"<ul>\\n\"+\n",
       "     \"<li>re-rerun `output_notebook()` to attempt to load from CDN again, or</li>\\n\"+\n",
       "     \"<li>use INLINE resources instead, as so:</li>\\n\"+\n",
       "     \"</ul>\\n\"+\n",
       "     \"<code>\\n\"+\n",
       "     \"from bokeh.resources import INLINE\\n\"+\n",
       "     \"output_notebook(resources=INLINE)\\n\"+\n",
       "     \"</code>\\n\"+\n",
       "     \"</div>\"}};\n",
       "\n",
       "  function display_loaded() {\n",
       "    if (window.Bokeh !== undefined) {\n",
       "      document.getElementById(\"7beeecea-d561-4b41-9191-5af69d35a89c\").textContent = \"BokehJS successfully loaded.\";\n",
       "    } else if (Date.now() < window._bokeh_timeout) {\n",
       "      setTimeout(display_loaded, 100)\n",
       "    }\n",
       "  }\n",
       "\n",
       "  function run_callbacks() {\n",
       "    window._bokeh_onload_callbacks.forEach(function(callback) { callback() });\n",
       "    delete window._bokeh_onload_callbacks\n",
       "    console.info(\"Bokeh: all callbacks have finished\");\n",
       "  }\n",
       "\n",
       "  function load_libs(js_urls, callback) {\n",
       "    window._bokeh_onload_callbacks.push(callback);\n",
       "    if (window._bokeh_is_loading > 0) {\n",
       "      console.log(\"Bokeh: BokehJS is being loaded, scheduling callback at\", now());\n",
       "      return null;\n",
       "    }\n",
       "    if (js_urls == null || js_urls.length === 0) {\n",
       "      run_callbacks();\n",
       "      return null;\n",
       "    }\n",
       "    console.log(\"Bokeh: BokehJS not loaded, scheduling load and callback at\", now());\n",
       "    window._bokeh_is_loading = js_urls.length;\n",
       "    for (var i = 0; i < js_urls.length; i++) {\n",
       "      var url = js_urls[i];\n",
       "      var s = document.createElement('script');\n",
       "      s.src = url;\n",
       "      s.async = false;\n",
       "      s.onreadystatechange = s.onload = function() {\n",
       "        window._bokeh_is_loading--;\n",
       "        if (window._bokeh_is_loading === 0) {\n",
       "          console.log(\"Bokeh: all BokehJS libraries loaded\");\n",
       "          run_callbacks()\n",
       "        }\n",
       "      };\n",
       "      s.onerror = function() {\n",
       "        console.warn(\"failed to load library \" + url);\n",
       "      };\n",
       "      console.log(\"Bokeh: injecting script tag for BokehJS library: \", url);\n",
       "      document.getElementsByTagName(\"head\")[0].appendChild(s);\n",
       "    }\n",
       "  };var element = document.getElementById(\"7beeecea-d561-4b41-9191-5af69d35a89c\");\n",
       "  if (element == null) {\n",
       "    console.log(\"Bokeh: ERROR: autoload.js configured with elementid '7beeecea-d561-4b41-9191-5af69d35a89c' but no matching script tag was found. \")\n",
       "    return false;\n",
       "  }\n",
       "\n",
       "  var js_urls = [\"https://cdn.pydata.org/bokeh/release/bokeh-0.12.4.min.js\", \"https://cdn.pydata.org/bokeh/release/bokeh-widgets-0.12.4.min.js\"];\n",
       "\n",
       "  var inline_js = [\n",
       "    function(Bokeh) {\n",
       "      Bokeh.set_log_level(\"info\");\n",
       "    },\n",
       "    \n",
       "    function(Bokeh) {\n",
       "      \n",
       "      document.getElementById(\"7beeecea-d561-4b41-9191-5af69d35a89c\").textContent = \"BokehJS is loading...\";\n",
       "    },\n",
       "    function(Bokeh) {\n",
       "      console.log(\"Bokeh: injecting CSS: https://cdn.pydata.org/bokeh/release/bokeh-0.12.4.min.css\");\n",
       "      Bokeh.embed.inject_css(\"https://cdn.pydata.org/bokeh/release/bokeh-0.12.4.min.css\");\n",
       "      console.log(\"Bokeh: injecting CSS: https://cdn.pydata.org/bokeh/release/bokeh-widgets-0.12.4.min.css\");\n",
       "      Bokeh.embed.inject_css(\"https://cdn.pydata.org/bokeh/release/bokeh-widgets-0.12.4.min.css\");\n",
       "    }\n",
       "  ];\n",
       "\n",
       "  function run_inline_js() {\n",
       "    \n",
       "    if ((window.Bokeh !== undefined) || (force === true)) {\n",
       "      for (var i = 0; i < inline_js.length; i++) {\n",
       "        inline_js[i](window.Bokeh);\n",
       "      }if (force === true) {\n",
       "        display_loaded();\n",
       "      }} else if (Date.now() < window._bokeh_timeout) {\n",
       "      setTimeout(run_inline_js, 100);\n",
       "    } else if (!window._bokeh_failed_load) {\n",
       "      console.log(\"Bokeh: BokehJS failed to load within specified timeout.\");\n",
       "      window._bokeh_failed_load = true;\n",
       "    } else if (force !== true) {\n",
       "      var cell = $(document.getElementById(\"7beeecea-d561-4b41-9191-5af69d35a89c\")).parents('.cell').data().cell;\n",
       "      cell.output_area.append_execute_result(NB_LOAD_WARNING)\n",
       "    }\n",
       "\n",
       "  }\n",
       "\n",
       "  if (window._bokeh_is_loading === 0) {\n",
       "    console.log(\"Bokeh: BokehJS loaded, going straight to plotting\");\n",
       "    run_inline_js();\n",
       "  } else {\n",
       "    load_libs(js_urls, function() {\n",
       "      console.log(\"Bokeh: BokehJS plotting callback run at\", now());\n",
       "      run_inline_js();\n",
       "    });\n",
       "  }\n",
       "}(this));"
      ]
     },
     "metadata": {},
     "output_type": "display_data"
    },
    {
     "name": "stdout",
     "output_type": "stream",
     "text": [
      "**** Loading 2 **** \n"
     ]
    }
   ],
   "source": [
    "from __future__ import division\n",
    "\n",
    "import sys\n",
    "sys.path.append(\"../Modules/\")\n",
    "sys.path.append(\"../\")\n",
    "import os\n",
    "import pandas as pd\n",
    "\n",
    "import numpy as np\n",
    "from scipy import signal as sig\n",
    "\n",
    "import performFun as pF\n",
    "import catchE1Funs as expFun\n",
    "import recalibration as rc\n",
    "\n",
    "from plottingFuns import *\n",
    "from analysisParameters import loadParameters\n",
    "\n",
    "bkP.output_notebook()\n",
    "\n",
    "fileTime = '2016-4-27-13-28'\n",
    "\n",
    "analysisParameters = loadParameters(fileTime)"
   ]
  },
  {
   "cell_type": "code",
   "execution_count": 2,
   "metadata": {
    "collapsed": false
   },
   "outputs": [
    {
     "name": "stdout",
     "output_type": "stream",
     "text": [
      "Loading experiment config file: ../Data/2016-4-27-13-28/gd_pilot.cfg\n",
      "Experiment config file parsed correctly\n",
      "Loading system config file: ../Data/2016-4-27-13-28/PERFORMVR.cfg\n",
      "System config file parsed correctly\n"
     ]
    }
   ],
   "source": [
    "startFresh = True\n",
    "loadProcessed = False\n",
    "\n",
    "##############################################################################\n",
    "##############################################################################\n",
    "### loadSessionDict\n",
    "# We can just tell members of the audience that any way they can get the data into a dataframe is OK\n",
    "sessionDict = pF.loadSessionDict(analysisParameters,startFresh=startFresh,loadProcessed = loadProcessed)"
   ]
  },
  {
   "cell_type": "markdown",
   "metadata": {},
   "source": [
    "# Calc cyc gaze direction"
   ]
  },
  {
   "cell_type": "markdown",
   "metadata": {},
   "source": [
    "### Create cyclopean gaze vector"
   ]
  },
  {
   "cell_type": "markdown",
   "metadata": {},
   "source": [
    "I'm pretending we dont' have cycEyeInHead.  Why?  I don't think the eye tracker gives it to you for free.  Lets begin by dropping it."
   ]
  },
  {
   "cell_type": "code",
   "execution_count": 3,
   "metadata": {
    "collapsed": false,
    "scrolled": false
   },
   "outputs": [],
   "source": [
    "sessionDict['raw'] = sessionDict['raw'].drop('cycEyeInHead',axis=1,level=0)"
   ]
  },
  {
   "cell_type": "markdown",
   "metadata": {},
   "source": [
    "### Take the average of the two vectors, then normalize"
   ]
  },
  {
   "cell_type": "code",
   "execution_count": 4,
   "metadata": {
    "collapsed": false,
    "scrolled": false
   },
   "outputs": [
    {
     "data": {
      "text/html": [
       "<div>\n",
       "<table border=\"1\" class=\"dataframe\">\n",
       "  <thead>\n",
       "    <tr style=\"text-align: right;\">\n",
       "      <th></th>\n",
       "      <th>X</th>\n",
       "      <th>Y</th>\n",
       "      <th>Z</th>\n",
       "    </tr>\n",
       "    <tr>\n",
       "      <th>frameNum</th>\n",
       "      <th></th>\n",
       "      <th></th>\n",
       "      <th></th>\n",
       "    </tr>\n",
       "  </thead>\n",
       "  <tbody>\n",
       "    <tr>\n",
       "      <th>1</th>\n",
       "      <td>0.204464</td>\n",
       "      <td>0.102350</td>\n",
       "      <td>0.973102</td>\n",
       "    </tr>\n",
       "    <tr>\n",
       "      <th>2</th>\n",
       "      <td>0.206678</td>\n",
       "      <td>0.101886</td>\n",
       "      <td>0.972704</td>\n",
       "    </tr>\n",
       "    <tr>\n",
       "      <th>3</th>\n",
       "      <td>0.207992</td>\n",
       "      <td>0.101454</td>\n",
       "      <td>0.972478</td>\n",
       "    </tr>\n",
       "    <tr>\n",
       "      <th>4</th>\n",
       "      <td>0.209539</td>\n",
       "      <td>0.101647</td>\n",
       "      <td>0.972151</td>\n",
       "    </tr>\n",
       "  </tbody>\n",
       "</table>\n",
       "</div>"
      ],
      "text/plain": [
       "                 X         Y         Z\n",
       "frameNum                              \n",
       "1         0.204464  0.102350  0.973102\n",
       "2         0.206678  0.101886  0.972704\n",
       "3         0.207992  0.101454  0.972478\n",
       "4         0.209539  0.101647  0.972151"
      ]
     },
     "execution_count": 4,
     "metadata": {},
     "output_type": "execute_result"
    }
   ],
   "source": [
    "# Wow.  This method is actually quite slow compared to the numpy method.  I'm surprised!\n",
    "cycEyeInHeadDf = sessionDict['raw'].apply(lambda x: (x['rightEyeInHead'] + x['leftEyeInHead'])/2.0 ,axis=1)\n",
    "cycEyeInHeadDf[1:5]"
   ]
  },
  {
   "cell_type": "code",
   "execution_count": 5,
   "metadata": {
    "collapsed": false,
    "scrolled": false
   },
   "outputs": [
    {
     "data": {
      "text/html": [
       "<div>\n",
       "<table border=\"1\" class=\"dataframe\">\n",
       "  <thead>\n",
       "    <tr>\n",
       "      <th></th>\n",
       "      <th colspan=\"3\" halign=\"left\">cycEyeInHead</th>\n",
       "    </tr>\n",
       "    <tr>\n",
       "      <th></th>\n",
       "      <th>X</th>\n",
       "      <th>Y</th>\n",
       "      <th>Z</th>\n",
       "    </tr>\n",
       "    <tr>\n",
       "      <th>frameNum</th>\n",
       "      <th></th>\n",
       "      <th></th>\n",
       "      <th></th>\n",
       "    </tr>\n",
       "  </thead>\n",
       "  <tbody>\n",
       "    <tr>\n",
       "      <th>1</th>\n",
       "      <td>0.204464</td>\n",
       "      <td>0.10235</td>\n",
       "      <td>0.973102</td>\n",
       "    </tr>\n",
       "    <tr>\n",
       "      <th>2</th>\n",
       "      <td>0.206678</td>\n",
       "      <td>0.101886</td>\n",
       "      <td>0.972704</td>\n",
       "    </tr>\n",
       "    <tr>\n",
       "      <th>3</th>\n",
       "      <td>0.207992</td>\n",
       "      <td>0.101454</td>\n",
       "      <td>0.972478</td>\n",
       "    </tr>\n",
       "    <tr>\n",
       "      <th>4</th>\n",
       "      <td>0.209539</td>\n",
       "      <td>0.101647</td>\n",
       "      <td>0.972151</td>\n",
       "    </tr>\n",
       "  </tbody>\n",
       "</table>\n",
       "</div>"
      ],
      "text/plain": [
       "         cycEyeInHead                    \n",
       "                    X         Y         Z\n",
       "frameNum                                 \n",
       "1            0.204464   0.10235  0.973102\n",
       "2            0.206678  0.101886  0.972704\n",
       "3            0.207992  0.101454  0.972478\n",
       "4            0.209539  0.101647  0.972151"
      ]
     },
     "execution_count": 5,
     "metadata": {},
     "output_type": "execute_result"
    }
   ],
   "source": [
    "cycEyeInHeadDf = np.add(sessionDict['raw']['rightEyeInHead'],sessionDict['raw']['leftEyeInHead'])/2\n",
    "cycEyeInHeadDf.columns = pd.MultiIndex.from_tuples([('cycEyeInHead','X'),('cycEyeInHead','Y'),('cycEyeInHead','Z')])\n",
    "cycEyeInHeadDf[1:5]"
   ]
  },
  {
   "cell_type": "markdown",
   "metadata": {},
   "source": [
    "### Normalize the vector"
   ]
  },
  {
   "cell_type": "code",
   "execution_count": 6,
   "metadata": {
    "collapsed": false
   },
   "outputs": [],
   "source": [
    "def normalizeDirection(xyz):\n",
    "    return xyz/np.linalg.norm(xyz)\n",
    "\n",
    "cycEyeInHeadDf = cycEyeInHeadDf.apply(lambda xyz: normalizeDirection(xyz), axis=1)"
   ]
  },
  {
   "cell_type": "markdown",
   "metadata": {},
   "source": [
    "### Add new dataframe to sessionDict['processed']"
   ]
  },
  {
   "cell_type": "code",
   "execution_count": 7,
   "metadata": {
    "collapsed": false
   },
   "outputs": [],
   "source": [
    "sessionDict['processed'] = pd.concat([sessionDict['processed'],cycEyeInHeadDf],axis=1,verify_integrity=1) "
   ]
  },
  {
   "cell_type": "markdown",
   "metadata": {},
   "source": [
    "# Now that we have the cyclopean gaze direction, we can apply our head transformation matrix to position it in the real world"
   ]
  },
  {
   "cell_type": "markdown",
   "metadata": {},
   "source": [
    "## Note that this requires that we know what direction is 'forward' in the SMI glasses space, and in our own head's local coordinate system.  I'm fudging it right now because I haven't looked this up in a while"
   ]
  },
  {
   "cell_type": "markdown",
   "metadata": {},
   "source": [
    "Note that this operation requires information spread across two dataframes.\n",
    "So, as a first step, we must create a temporary dataframe with the columns of data that we will need of our operation"
   ]
  },
  {
   "cell_type": "code",
   "execution_count": 8,
   "metadata": {
    "collapsed": false
   },
   "outputs": [
    {
     "data": {
      "text/html": [
       "<div>\n",
       "<table border=\"1\" class=\"dataframe\">\n",
       "  <thead>\n",
       "    <tr>\n",
       "      <th></th>\n",
       "      <th colspan=\"3\" halign=\"left\">cycEyeInHead</th>\n",
       "      <th colspan=\"16\" halign=\"left\">viewMatrix</th>\n",
       "    </tr>\n",
       "    <tr>\n",
       "      <th></th>\n",
       "      <th>X</th>\n",
       "      <th>Y</th>\n",
       "      <th>Z</th>\n",
       "      <th>0</th>\n",
       "      <th>1</th>\n",
       "      <th>2</th>\n",
       "      <th>3</th>\n",
       "      <th>4</th>\n",
       "      <th>5</th>\n",
       "      <th>6</th>\n",
       "      <th>7</th>\n",
       "      <th>8</th>\n",
       "      <th>9</th>\n",
       "      <th>10</th>\n",
       "      <th>11</th>\n",
       "      <th>12</th>\n",
       "      <th>13</th>\n",
       "      <th>14</th>\n",
       "      <th>15</th>\n",
       "    </tr>\n",
       "  </thead>\n",
       "  <tbody>\n",
       "    <tr>\n",
       "      <th>1</th>\n",
       "      <td>0.204545</td>\n",
       "      <td>0.102391</td>\n",
       "      <td>0.973487</td>\n",
       "      <td>0.979573</td>\n",
       "      <td>0.040979</td>\n",
       "      <td>0.196869</td>\n",
       "      <td>0</td>\n",
       "      <td>-0.0596425</td>\n",
       "      <td>0.99417</td>\n",
       "      <td>0.0898266</td>\n",
       "      <td>0</td>\n",
       "      <td>-0.192041</td>\n",
       "      <td>-0.0997335</td>\n",
       "      <td>0.976306</td>\n",
       "      <td>0</td>\n",
       "      <td>-0.914088</td>\n",
       "      <td>1.70349</td>\n",
       "      <td>0.720328</td>\n",
       "      <td>1</td>\n",
       "    </tr>\n",
       "    <tr>\n",
       "      <th>2</th>\n",
       "      <td>0.206756</td>\n",
       "      <td>0.101924</td>\n",
       "      <td>0.973069</td>\n",
       "      <td>0.979625</td>\n",
       "      <td>0.0410081</td>\n",
       "      <td>0.196602</td>\n",
       "      <td>0</td>\n",
       "      <td>-0.0596815</td>\n",
       "      <td>0.994151</td>\n",
       "      <td>0.0900157</td>\n",
       "      <td>0</td>\n",
       "      <td>-0.191761</td>\n",
       "      <td>-0.0999152</td>\n",
       "      <td>0.976342</td>\n",
       "      <td>0</td>\n",
       "      <td>-0.91407</td>\n",
       "      <td>1.70366</td>\n",
       "      <td>0.719961</td>\n",
       "      <td>1</td>\n",
       "    </tr>\n",
       "    <tr>\n",
       "      <th>3</th>\n",
       "      <td>0.208068</td>\n",
       "      <td>0.101491</td>\n",
       "      <td>0.972835</td>\n",
       "      <td>0.979673</td>\n",
       "      <td>0.040977</td>\n",
       "      <td>0.196372</td>\n",
       "      <td>0</td>\n",
       "      <td>-0.0596708</td>\n",
       "      <td>0.99413</td>\n",
       "      <td>0.0902438</td>\n",
       "      <td>0</td>\n",
       "      <td>-0.191522</td>\n",
       "      <td>-0.100127</td>\n",
       "      <td>0.976368</td>\n",
       "      <td>0</td>\n",
       "      <td>-0.914259</td>\n",
       "      <td>1.70371</td>\n",
       "      <td>0.719824</td>\n",
       "      <td>1</td>\n",
       "    </tr>\n",
       "    <tr>\n",
       "      <th>4</th>\n",
       "      <td>0.209611</td>\n",
       "      <td>0.101681</td>\n",
       "      <td>0.972483</td>\n",
       "      <td>0.979703</td>\n",
       "      <td>0.0408316</td>\n",
       "      <td>0.196252</td>\n",
       "      <td>0</td>\n",
       "      <td>-0.0595599</td>\n",
       "      <td>0.994114</td>\n",
       "      <td>0.0904943</td>\n",
       "      <td>0</td>\n",
       "      <td>-0.191402</td>\n",
       "      <td>-0.100346</td>\n",
       "      <td>0.976369</td>\n",
       "      <td>0</td>\n",
       "      <td>-0.914497</td>\n",
       "      <td>1.70367</td>\n",
       "      <td>0.719849</td>\n",
       "      <td>1</td>\n",
       "    </tr>\n",
       "  </tbody>\n",
       "</table>\n",
       "</div>"
      ],
      "text/plain": [
       "  cycEyeInHead                     viewMatrix                          \\\n",
       "             X         Y         Z          0          1         2  3   \n",
       "1     0.204545  0.102391  0.973487   0.979573   0.040979  0.196869  0   \n",
       "2     0.206756  0.101924  0.973069   0.979625  0.0410081  0.196602  0   \n",
       "3     0.208068  0.101491  0.972835   0.979673   0.040977  0.196372  0   \n",
       "4     0.209611  0.101681  0.972483   0.979703  0.0408316  0.196252  0   \n",
       "\n",
       "                                                                        \\\n",
       "           4         5          6  7         8          9        10 11   \n",
       "1 -0.0596425   0.99417  0.0898266  0 -0.192041 -0.0997335  0.976306  0   \n",
       "2 -0.0596815  0.994151  0.0900157  0 -0.191761 -0.0999152  0.976342  0   \n",
       "3 -0.0596708   0.99413  0.0902438  0 -0.191522  -0.100127  0.976368  0   \n",
       "4 -0.0595599  0.994114  0.0904943  0 -0.191402  -0.100346  0.976369  0   \n",
       "\n",
       "                                   \n",
       "         12       13        14 15  \n",
       "1 -0.914088  1.70349  0.720328  1  \n",
       "2  -0.91407  1.70366  0.719961  1  \n",
       "3 -0.914259  1.70371  0.719824  1  \n",
       "4 -0.914497  1.70367  0.719849  1  "
      ]
     },
     "execution_count": 8,
     "metadata": {},
     "output_type": "execute_result"
    }
   ],
   "source": [
    "newDf = pd.concat([sessionDict['processed']['cycEyeInHead'],sessionDict['raw']['viewMat']],\n",
    "          axis=1,keys=['cycEyeInHead','viewMatrix'])\n",
    "\n",
    "newDf[1:5]"
   ]
  },
  {
   "cell_type": "markdown",
   "metadata": {},
   "source": [
    "### Now, lets apply a function to each row that multiplies the data by the transform.  This should be a function."
   ]
  },
  {
   "cell_type": "code",
   "execution_count": 9,
   "metadata": {
    "collapsed": false,
    "scrolled": true
   },
   "outputs": [
    {
     "name": "stdout",
     "output_type": "stream",
     "text": [
      "[-0.9072305704493391 1.716757568939831 1.720213239565728]\n",
      "[-0.9067774000271243 1.7165759648058603 1.7202152346190756]\n",
      "[-0.9042063656047987 1.7162423558820168 1.7198331128588706]\n",
      "[-0.9027951030171278 1.7157266652739223 1.7196858774406332]\n",
      "[-0.9013320802732305 1.7157315702365588 1.7196894562060985]\n",
      "[-0.9013708781146015 1.7165969015120088 1.7197110387079477]\n",
      "[-0.9018280666591405 1.7158919780642523 1.7200332504712368]\n",
      "[-0.9019543229859046 1.7157196114810356 1.719974760701407]\n",
      "[-0.9023072049594887 1.7155118580662545 1.7197011376281313]\n",
      "[-0.9022277551428676 1.7160278677684453 1.7196385614633136]\n"
     ]
    }
   ],
   "source": [
    "# THis is the. only working implementation I've found. Ungh.\n",
    "for fr in range(0,10): #range(len(sessionDict['raw']['viewMat'])):\n",
    "    mat = sessionDict['raw']['viewMat'].values[fr].reshape([4,4]).T\n",
    "    xyzw = np.append(sessionDict['processed']['cycEyeInHead'].values[fr],True) # The True converst into a 1:  [x y z 1]\n",
    "    print np.dot(mat,xyzw)[0:3]\n"
   ]
  },
  {
   "cell_type": "code",
   "execution_count": 10,
   "metadata": {
    "collapsed": false
   },
   "outputs": [
    {
     "data": {
      "text/plain": [
       "[array([-0.9072305704493391, 1.716757568939831, 1.720213239565728, 1.0], dtype=object),\n",
       " array([-0.9067774000271243, 1.7165759648058603, 1.7202152346190756, 1.0], dtype=object),\n",
       " array([-0.9042063656047987, 1.7162423558820168, 1.7198331128588706, 1.0], dtype=object),\n",
       " array([-0.9027951030171278, 1.7157266652739223, 1.7196858774406332, 1.0], dtype=object),\n",
       " array([-0.9013320802732305, 1.7157315702365588, 1.7196894562060985, 1.0], dtype=object),\n",
       " array([-0.9013708781146015, 1.7165969015120088, 1.7197110387079477, 1.0], dtype=object),\n",
       " array([-0.9018280666591405, 1.7158919780642523, 1.7200332504712368, 1.0], dtype=object),\n",
       " array([-0.9019543229859046, 1.7157196114810356, 1.719974760701407, 1.0], dtype=object),\n",
       " array([-0.9023072049594887, 1.7155118580662545, 1.7197011376281313, 1.0], dtype=object),\n",
       " array([-0.9022277551428676, 1.7160278677684453, 1.7196385614633136, 1.0], dtype=object)]"
      ]
     },
     "execution_count": 10,
     "metadata": {},
     "output_type": "execute_result"
    }
   ],
   "source": [
    "out_fr_XYZ = [np.dot(sessionDict['raw']['viewMat'].values[fr].reshape([4,4]).T,\n",
    "                     np.append(sessionDict['processed']['cycEyeInHead'].values[fr],1)) for fr in range(0,10)]\n",
    "\n",
    "out_fr_XYZ"
   ]
  },
  {
   "cell_type": "markdown",
   "metadata": {},
   "source": [
    "## I really want to solve this in a way that will allow use of the apply command."
   ]
  },
  {
   "cell_type": "markdown",
   "metadata": {},
   "source": [
    "### Here are some failed attempts"
   ]
  },
  {
   "cell_type": "code",
   "execution_count": 11,
   "metadata": {
    "collapsed": false
   },
   "outputs": [],
   "source": [
    "# Attempt one\n",
    "#newDf.apply(lambda row: np.dot(row['viewMatrix'].values.reshape([4,4]).T,[0,0,1.0,0]),axis=1)\n",
    "\n",
    "\n",
    "\n",
    "# Attempt two\n",
    "#def multByMatrix(matrix_fr,xyz_fr,translate = True):       \n",
    "#     out_fr_XYZ = np.array([ np.dot(matrix_fr.values[fr].reshape([4,4]).T,\n",
    "#                                    np.append(xyz_fr.values[fr],translate)) \n",
    "#                            for fr in range(len(xyz_fr))])\n",
    "\n"
   ]
  },
  {
   "cell_type": "markdown",
   "metadata": {},
   "source": [
    "### Eureeka!  It turns out that the output from the function must be a tuple, or you get the error....\n",
    "ValueError: Shape of passed values is (40415, 3), indices imply (40415, 19)\n"
   ]
  },
  {
   "cell_type": "code",
   "execution_count": 12,
   "metadata": {
    "collapsed": false
   },
   "outputs": [
    {
     "data": {
      "text/plain": [
       "1    (-0.906777400027, 1.71657596481, 1.72021523462)\n",
       "2    (-0.904206365605, 1.71624235588, 1.71983311286)\n",
       "3    (-0.902795103017, 1.71572666527, 1.71968587744)\n",
       "4    (-0.901332080273, 1.71573157024, 1.71968945621)\n",
       "5    (-0.901370878115, 1.71659690151, 1.71971103871)\n",
       "6    (-0.901828066659, 1.71589197806, 1.72003325047)\n",
       "7     (-0.901954322986, 1.71571961148, 1.7199747607)\n",
       "8    (-0.902307204959, 1.71551185807, 1.71970113763)\n",
       "9    (-0.902227755143, 1.71602786777, 1.71963856146)\n",
       "dtype: object"
      ]
     },
     "execution_count": 12,
     "metadata": {},
     "output_type": "execute_result"
    }
   ],
   "source": [
    "# Fuck it!  We'll do it in a for loop.\n",
    "def multByMatrix(matrix,xyz,translate = True):\n",
    "        \n",
    "    mat = matrix.values.reshape([4,4]).T\n",
    "    xyzw = np.append(xyz,True)\n",
    "    xyzOut = np.dot(mat,xyzw)\n",
    "    \n",
    "    # It seems to be an issue of the return type\n",
    "    #return xyzOut[0:3] # THis does not work\n",
    "    #return [1,2,3] # THis does\n",
    "\n",
    "    #Eureeka!  You must return a tuple. This is pretty fast.\n",
    "    return (xyzOut[0],xyzOut[1],xyzOut[2])\n",
    "\n",
    "\n",
    "\n",
    "tranformedXYZ = newDf.apply(lambda row: multByMatrix(row['viewMatrix'],row['cycEyeInHead']),axis=1)\n",
    "tranformedXYZ[1:10]"
   ]
  },
  {
   "cell_type": "markdown",
   "metadata": {},
   "source": [
    "# Do this for a few more things.  Plot. Success!"
   ]
  }
 ],
 "metadata": {
  "kernelspec": {
   "display_name": "Python 2",
   "language": "python",
   "name": "python2"
  },
  "language_info": {
   "codemirror_mode": {
    "name": "ipython",
    "version": 2
   },
   "file_extension": ".py",
   "mimetype": "text/x-python",
   "name": "python",
   "nbconvert_exporter": "python",
   "pygments_lexer": "ipython2",
   "version": "2.7.13"
  }
 },
 "nbformat": 4,
 "nbformat_minor": 2
}
