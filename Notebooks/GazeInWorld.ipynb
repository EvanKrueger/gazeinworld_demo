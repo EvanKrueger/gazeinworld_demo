{
 "cells": [
  {
   "cell_type": "code",
   "execution_count": null,
   "metadata": {
    "collapsed": true
   },
   "outputs": [],
   "source": [
    "\n"
   ]
  },
  {
   "cell_type": "markdown",
   "metadata": {},
   "source": [
    "# Gaze-in-World Example"
   ]
  },
  {
   "cell_type": "markdown",
   "metadata": {},
   "source": [
    "### First, import and parse the data:"
   ]
  },
  {
   "cell_type": "code",
   "execution_count": 4,
   "metadata": {},
   "outputs": [
    {
     "ename": "ImportError",
     "evalue": "No module named gazeinworld_demo.Modules.PerformParser",
     "output_type": "error",
     "traceback": [
      "\u001b[0;31m---------------------------------------------------------------------------\u001b[0m",
      "\u001b[0;31mImportError\u001b[0m                               Traceback (most recent call last)",
      "\u001b[0;32m<ipython-input-4-a7bf6a329666>\u001b[0m in \u001b[0;36m<module>\u001b[0;34m()\u001b[0m\n\u001b[1;32m      1\u001b[0m \u001b[0;32mfrom\u001b[0m \u001b[0m__future__\u001b[0m \u001b[0;32mimport\u001b[0m \u001b[0mdivision\u001b[0m\u001b[0;34m,\u001b[0m \u001b[0mprint_function\u001b[0m\u001b[0;34m\u001b[0m\u001b[0m\n\u001b[0;32m----> 2\u001b[0;31m \u001b[0;32mfrom\u001b[0m \u001b[0mgazeinworld_demo\u001b[0m\u001b[0;34m.\u001b[0m\u001b[0mModules\u001b[0m\u001b[0;34m.\u001b[0m\u001b[0mPerformParser\u001b[0m \u001b[0;32mimport\u001b[0m \u001b[0mdictFileToDataFrame\u001b[0m\u001b[0;34m\u001b[0m\u001b[0m\n\u001b[0m\u001b[1;32m      3\u001b[0m \u001b[0;32mfrom\u001b[0m \u001b[0;34m.\u001b[0m\u001b[0mModules\u001b[0m\u001b[0;34m.\u001b[0m\u001b[0mclasses\u001b[0m \u001b[0;32mimport\u001b[0m \u001b[0;34m*\u001b[0m\u001b[0;34m\u001b[0m\u001b[0m\n\u001b[1;32m      4\u001b[0m \u001b[0;34m\u001b[0m\u001b[0m\n\u001b[1;32m      5\u001b[0m \u001b[0;31m# define nan var for dataframe\u001b[0m\u001b[0;34m\u001b[0m\u001b[0;34m\u001b[0m\u001b[0m\n",
      "\u001b[0;31mImportError\u001b[0m: No module named gazeinworld_demo.Modules.PerformParser"
     ]
    }
   ],
   "source": [
    "from __future__ import division, print_function\n",
    "from gazeinworld_demo.Modules.PerformParser import dictFileToDataFrame\n",
    "from .Modules.classes import *\n",
    "\n",
    "# define nan var for dataframe\n",
    "nan = float(\"NaN\")\n",
    "# read dict file, save as pandas DF\n",
    "datafile = dictFileToDataFrame(\"Data/2017-4-14-18-36/exp_data-2017-4-14-18-36.dict\")"
   ]
  },
  {
   "cell_type": "markdown",
   "metadata": {},
   "source": [
    "### Create instances of the tracked head and left eye:"
   ]
  },
  {
   "cell_type": "code",
   "execution_count": null,
   "metadata": {
    "collapsed": true
   },
   "outputs": [],
   "source": [
    "# create shape node\n",
    "head = Head(datafile, \"viewMat_4x4\")\n",
    "eye_L = Eye(datafile, \"leftEyeMat_4x4\", head, \"leftEyeInHead_XYZ\")"
   ]
  },
  {
   "cell_type": "markdown",
   "metadata": {},
   "source": [
    "### Todo:  Add a figure of...\n",
    "* Origin is the cyclopean eye\n",
    "* The head's frame of reference\n",
    "* Place left eye\n",
    "* Show left eye vector within the frame"
   ]
  },
  {
   "cell_type": "markdown",
   "metadata": {},
   "source": [
    "### Returning the gaze in head frame-of-reference or world frame-of-reference is simple:"
   ]
  },
  {
   "cell_type": "code",
   "execution_count": null,
   "metadata": {
    "collapsed": true
   },
   "outputs": [],
   "source": [
    "print(\"EYE GIW: %s\\nEYE GIH:%s\" % (eye_L.gazeinhead(), eye_L.gazeinworld()))"
   ]
  },
  {
   "cell_type": "markdown",
   "metadata": {
    "collapsed": true
   },
   "source": [
    "### Todo:  Add a figure of...\n",
    "* Origin is the world centered, world frame\n",
    "* Place head in world\n",
    "* Show left eye gaze in world\n",
    "* Draw the ball"
   ]
  },
  {
   "cell_type": "markdown",
   "metadata": {},
   "source": [
    "### Eventually...\n",
    "* Add a demonstraction of gaze-error calculation.  \n",
    "    * angularDistance(eye_L,theBall,origin=world,frame=world )\n",
    "    * angularDistance(eye_L,theBall,origin=head,frame=head ) \n",
    "* Angle from gaze in world to a silohuette\n",
    "    * Plot!\n",
    "    * "
   ]
  },
  {
   "cell_type": "code",
   "execution_count": null,
   "metadata": {
    "collapsed": true
   },
   "outputs": [],
   "source": [
    "#/usr/bin/python3\n",
    "\n",
    "from plotly.offline import download_plotlyjs, init_notebook_mode, plot, iplot\n",
    "init_notebook_mode()\n",
    "\n",
    "data = go.Data([\n",
    "    go.Mesh3d(\n",
    "        x = [0, 1, 2, 0],\n",
    "        y = [0, 0, 1, 2],\n",
    "        z = [0, 2, 0, 1],\n",
    "        colorbar = go.ColorBar(\n",
    "            title='z'\n",
    "        ),\n",
    "        colorscale = [['0', 'rgb(255, 0, 0)'], ['0.5', 'rgb(0, 255, 0)'], ['1', 'rgb(0, 0, 255)']],\n",
    "        intensity = [0, 0.33, 0.66, 1],\n",
    "        i = [0, 0, 0, 1],\n",
    "        j = [1, 2, 3, 2],\n",
    "        k = [2, 3, 1, 3],\n",
    "        name = 'y',\n",
    "        showscale = True\n",
    "    )\n",
    "])\n",
    "layout = go.Layout(\n",
    "    xaxis=go.XAxis(\n",
    "        title='x'\n",
    "    ),\n",
    "    yaxis=go.YAxis(\n",
    "        title='y'\n",
    "    )\n",
    ")\n",
    "fig = go.Figure(data=data, layout=layout)\n",
    "iplot(fig, filename='3d-mesh-tetrahedron-python')"
   ]
  },
  {
   "cell_type": "code",
   "execution_count": null,
   "metadata": {
    "collapsed": true
   },
   "outputs": [],
   "source": []
  }
 ],
 "metadata": {
  "kernelspec": {
   "display_name": "Python 3",
   "language": "python",
   "name": "python3"
  },
  "language_info": {
   "codemirror_mode": {
    "name": "ipython",
    "version": 2
   },
   "file_extension": ".py",
   "mimetype": "text/x-python",
   "name": "python",
   "nbconvert_exporter": "python",
   "pygments_lexer": "ipython2",
   "version": "2.7.12"
  }
 },
 "nbformat": 4,
 "nbformat_minor": 2
}
