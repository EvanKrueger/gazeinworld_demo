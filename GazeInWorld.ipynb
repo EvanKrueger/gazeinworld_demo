{
 "cells": [
  {
   "cell_type": "code",
   "execution_count": 2,
   "metadata": {},
   "outputs": [
    {
     "data": {
      "text/html": [
       "<script>requirejs.config({paths: { 'plotly': ['https://cdn.plot.ly/plotly-latest.min']},});if(!window.Plotly) {{require(['plotly'],function(plotly) {window.Plotly=plotly;});}}</script>"
      ],
      "text/vnd.plotly.v1+html": [
       "<script>requirejs.config({paths: { 'plotly': ['https://cdn.plot.ly/plotly-latest.min']},});if(!window.Plotly) {{require(['plotly'],function(plotly) {window.Plotly=plotly;});}}</script>"
      ]
     },
     "metadata": {},
     "output_type": "display_data"
    }
   ],
   "source": [
    "init_notebook_mode(connected=True)"
   ]
  },
  {
   "cell_type": "code",
   "execution_count": 6,
   "metadata": {},
   "outputs": [
    {
     "data": {
      "application/vnd.plotly.v1+json": {
       "data": [
        {
         "colorbar": {
          "title": "z"
         },
         "colorscale": [
          [
           "0",
           "rgb(255, 0, 0)"
          ],
          [
           "0.5",
           "rgb(0, 255, 0)"
          ],
          [
           "1",
           "rgb(0, 0, 255)"
          ]
         ],
         "i": [
          0,
          0,
          0,
          1
         ],
         "intensity": [
          0,
          0.33,
          0.66,
          1
         ],
         "j": [
          1,
          2,
          3,
          2
         ],
         "k": [
          2,
          3,
          1,
          3
         ],
         "name": "y",
         "showscale": true,
         "type": "mesh3d",
         "x": [
          0,
          1,
          2,
          0
         ],
         "y": [
          0,
          0,
          1,
          2
         ],
         "z": [
          0,
          2,
          0,
          1
         ]
        }
       ],
       "layout": {
        "autosize": true,
        "scene": {
         "xaxis": {
          "autorange": false,
          "range": [
           -20,
           20
          ]
         },
         "yaxis": {
          "autorange": false,
          "range": [
           -20,
           20
          ]
         },
         "zaxis": {
          "autorange": false,
          "range": [
           -20,
           20
          ]
         }
        }
       }
      },
      "text/html": [
       "<div id=\"0c1477f3-a7f2-4f8d-9a9c-1cf7caa2c315\" style=\"height: 525px; width: 100%;\" class=\"plotly-graph-div\"></div><script type=\"text/javascript\">require([\"plotly\"], function(Plotly) { window.PLOTLYENV=window.PLOTLYENV || {};window.PLOTLYENV.BASE_URL=\"https://plot.ly\";Plotly.newPlot(\"0c1477f3-a7f2-4f8d-9a9c-1cf7caa2c315\", [{\"name\": \"y\", \"colorscale\": [[\"0\", \"rgb(255, 0, 0)\"], [\"0.5\", \"rgb(0, 255, 0)\"], [\"1\", \"rgb(0, 0, 255)\"]], \"i\": [0, 0, 0, 1], \"k\": [2, 3, 1, 3], \"j\": [1, 2, 3, 2], \"colorbar\": {\"title\": \"z\"}, \"intensity\": [0, 0.33, 0.66, 1], \"showscale\": true, \"y\": [0, 0, 1, 2], \"x\": [0, 1, 2, 0], \"z\": [0, 2, 0, 1], \"type\": \"mesh3d\"}], {\"autosize\": true, \"scene\": {\"zaxis\": {\"range\": [-20, 20], \"autorange\": false}, \"xaxis\": {\"range\": [-20, 20], \"autorange\": false}, \"yaxis\": {\"range\": [-20, 20], \"autorange\": false}}}, {\"linkText\": \"Export to plot.ly\", \"showLink\": true})});</script>"
      ],
      "text/vnd.plotly.v1+html": [
       "<div id=\"0c1477f3-a7f2-4f8d-9a9c-1cf7caa2c315\" style=\"height: 525px; width: 100%;\" class=\"plotly-graph-div\"></div><script type=\"text/javascript\">require([\"plotly\"], function(Plotly) { window.PLOTLYENV=window.PLOTLYENV || {};window.PLOTLYENV.BASE_URL=\"https://plot.ly\";Plotly.newPlot(\"0c1477f3-a7f2-4f8d-9a9c-1cf7caa2c315\", [{\"name\": \"y\", \"colorscale\": [[\"0\", \"rgb(255, 0, 0)\"], [\"0.5\", \"rgb(0, 255, 0)\"], [\"1\", \"rgb(0, 0, 255)\"]], \"i\": [0, 0, 0, 1], \"k\": [2, 3, 1, 3], \"j\": [1, 2, 3, 2], \"colorbar\": {\"title\": \"z\"}, \"intensity\": [0, 0.33, 0.66, 1], \"showscale\": true, \"y\": [0, 0, 1, 2], \"x\": [0, 1, 2, 0], \"z\": [0, 2, 0, 1], \"type\": \"mesh3d\"}], {\"autosize\": true, \"scene\": {\"zaxis\": {\"range\": [-20, 20], \"autorange\": false}, \"xaxis\": {\"range\": [-20, 20], \"autorange\": false}, \"yaxis\": {\"range\": [-20, 20], \"autorange\": false}}}, {\"linkText\": \"Export to plot.ly\", \"showLink\": true})});</script>"
      ]
     },
     "metadata": {},
     "output_type": "display_data"
    }
   ],
   "source": [
    "from plotly import __version__\n",
    "from plotly.offline import download_plotlyjs, init_notebook_mode, plot, iplot\n",
    "import plotly.graph_objs as go\n",
    "\n",
    "\n",
    "data = go.Data([\n",
    "    go.Mesh3d(\n",
    "        x=[0, 1, 2, 0],\n",
    "        y=[0, 0, 1, 2],\n",
    "        z=[0, 2, 0, 1],\n",
    "        colorbar=go.ColorBar(\n",
    "            title='z'\n",
    "        ),\n",
    "        colorscale=[['0', 'rgb(255, 0, 0)'], ['0.5', 'rgb(0, 255, 0)'], [\n",
    "            '1', 'rgb(0, 0, 255)']],\n",
    "        intensity=[0, 0.33, 0.66, 1],\n",
    "        i=[0, 0, 0, 1],\n",
    "        j=[1, 2, 3, 2],\n",
    "        k=[2, 3, 1, 3],\n",
    "        name='y',\n",
    "        showscale=True\n",
    "    )\n",
    "])\n",
    "\n",
    "\n",
    "layout = dict(\n",
    "    autosize=True,\n",
    "    scene=dict(\n",
    "        camera=dict(\n",
    "            \n",
    "        )\n",
    "        xaxis=dict(\n",
    "            autorange=False,\n",
    "            range=[-20, 20]\n",
    "        ),\n",
    "        yaxis=dict(\n",
    "            autorange=False,\n",
    "            range=[-20, 20]\n",
    "        ),\n",
    "        zaxis=dict(\n",
    "            autorange=False,\n",
    "            range=[-20, 20]\n",
    "        )\n",
    "    )\n",
    ")\n",
    "fig = go.Figure(data=data, layout=layout)\n",
    "iplot(fig)\n"
   ]
  },
  {
   "cell_type": "markdown",
   "metadata": {},
   "source": [
    "# Gaze-in-World Example"
   ]
  },
  {
   "cell_type": "markdown",
   "metadata": {},
   "source": [
    "### First, import and parse the data:"
   ]
  },
  {
   "cell_type": "code",
   "execution_count": 1,
   "metadata": {},
   "outputs": [],
   "source": [
    "from __future__ import division, print_function\n",
    "from Modules.PerformParser import dictFileToDataFrame\n",
    "from Modules.classes import *\n",
    "\n",
    "# define nan var for dataframe\n",
    "nan = float(\"NaN\")\n",
    "# read dict file, save as pandas DF\n",
    "datafile = dictFileToDataFrame(\"Data/2017-4-14-18-36/exp_data-2017-4-14-18-36.dict\")"
   ]
  },
  {
   "cell_type": "markdown",
   "metadata": {},
   "source": [
    "### Create instances of the tracked head and left eye:"
   ]
  },
  {
   "cell_type": "code",
   "execution_count": null,
   "metadata": {
    "collapsed": true
   },
   "outputs": [],
   "source": [
    "# create shape node\n",
    "head = Head(datafile, \"viewMat_4x4\")\n",
    "eye_L = Eye(datafile, \"leftEyeMat_4x4\", head, \"leftEyeInHead_XYZ\")"
   ]
  },
  {
   "cell_type": "markdown",
   "metadata": {},
   "source": [
    "### Todo:  Add a figure of...\n",
    "* Origin is the cyclopean eye\n",
    "* The head's frame of reference\n",
    "* Place left eye\n",
    "* Show left eye vector within the frame"
   ]
  },
  {
   "cell_type": "markdown",
   "metadata": {},
   "source": [
    "### Returning the gaze in head frame-of-reference or world frame-of-reference is simple:"
   ]
  },
  {
   "cell_type": "code",
   "execution_count": null,
   "metadata": {
    "collapsed": true
   },
   "outputs": [],
   "source": [
    "print(\"EYE GIW: %s\\nEYE GIH:%s\" % (eye_L.gazeinhead(), eye_L.gazeinworld()))"
   ]
  },
  {
   "cell_type": "markdown",
   "metadata": {
    "collapsed": true
   },
   "source": [
    "### Todo:  Add a figure of...\n",
    "* Origin is the world centered, world frame\n",
    "* Place head in world\n",
    "* Show left eye gaze in world\n",
    "* Draw the ball"
   ]
  },
  {
   "cell_type": "markdown",
   "metadata": {},
   "source": [
    "### Eventually...\n",
    "* Add a demonstraction of gaze-error calculation.  \n",
    "    * angularDistance(eye_L,theBall,origin=world,frame=world )\n",
    "    * angularDistance(eye_L,theBall,origin=head,frame=head ) \n",
    "* Angle from gaze in world to a silohuette\n",
    "    * Plot!\n",
    "    * "
   ]
  },
  {
   "cell_type": "code",
   "execution_count": null,
   "metadata": {
    "collapsed": true
   },
   "outputs": [],
   "source": [
    "#/usr/bin/python3\n",
    "\n",
    "from plotly.offline import download_plotlyjs, init_notebook_mode, plot, iplot\n",
    "init_notebook_mode()\n",
    "\n",
    "data = go.Data([\n",
    "    go.Mesh3d(\n",
    "        x = [0, 1, 2, 0],\n",
    "        y = [0, 0, 1, 2],\n",
    "        z = [0, 2, 0, 1],\n",
    "        colorbar = go.ColorBar(\n",
    "            title='z'\n",
    "        ),\n",
    "        colorscale = [['0', 'rgb(255, 0, 0)'], ['0.5', 'rgb(0, 255, 0)'], ['1', 'rgb(0, 0, 255)']],\n",
    "        intensity = [0, 0.33, 0.66, 1],\n",
    "        i = [0, 0, 0, 1],\n",
    "        j = [1, 2, 3, 2],\n",
    "        k = [2, 3, 1, 3],\n",
    "        name = 'y',\n",
    "        showscale = True\n",
    "    )\n",
    "])\n",
    "layout = go.Layout(\n",
    "    xaxis=go.XAxis(\n",
    "        title='x'\n",
    "    ),\n",
    "    yaxis=go.YAxis(\n",
    "        title='y'\n",
    "    )\n",
    ")\n",
    "fig = go.Figure(data=data, layout=layout)\n",
    "iplot(fig, filename='3d-mesh-tetrahedron-python')"
   ]
  },
  {
   "cell_type": "code",
   "execution_count": null,
   "metadata": {
    "collapsed": true
   },
   "outputs": [],
   "source": []
  }
 ],
 "metadata": {
  "kernelspec": {
   "display_name": "Python 2",
   "language": "python",
   "name": "python2"
  },
  "language_info": {
   "codemirror_mode": {
    "name": "ipython",
    "version": 2
   },
   "file_extension": ".py",
   "mimetype": "text/x-python",
   "name": "python",
   "nbconvert_exporter": "python",
   "pygments_lexer": "ipython2",
   "version": "2.7.12"
  }
 },
 "nbformat": 4,
 "nbformat_minor": 2
}
