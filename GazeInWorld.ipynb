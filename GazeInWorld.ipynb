{
 "cells": [
  {
   "cell_type": "markdown",
   "metadata": {},
   "source": [
    "# Gaze-in-World Example"
   ]
  },
  {
   "cell_type": "markdown",
   "metadata": {},
   "source": [
    "### First, import and parse the data:"
   ]
  },
  {
   "cell_type": "code",
   "execution_count": 1,
   "metadata": {
    "collapsed": true
   },
   "outputs": [],
   "source": [
    "from __future__ import division, print_function\n",
    "from Modules.PerformParser import dictFileToDataFrame\n",
    "from Modules.classes import *\n",
    "\n",
    "# define nan var for dataframe\n",
    "nan = float(\"NaN\")\n",
    "# read dict file, save as pandas DF\n",
    "datafile = dictFileToDataFrame(\"Data/2017-4-14-18-36/exp_data-2017-4-14-18-36.dict\")"
   ]
  },
  {
   "cell_type": "markdown",
   "metadata": {},
   "source": [
    "### Create instances of the tracked head and left eye:"
   ]
  },
  {
   "cell_type": "code",
   "execution_count": 2,
   "metadata": {},
   "outputs": [],
   "source": [
    "# create shape node\n",
    "head = Head(datafile, \"viewMat_4x4\")\n",
    "eye_L = Eye(datafile, \"leftEyeMat_4x4\", head, \"leftEyeInHead_XYZ\")"
   ]
  },
  {
   "cell_type": "markdown",
   "metadata": {},
   "source": [
    "### Returning the gaze in head frame-of-reference or world frame-of-reference is simple:"
   ]
  },
  {
   "cell_type": "code",
   "execution_count": 5,
   "metadata": {},
   "outputs": [
    {
     "name": "stdout",
     "output_type": "stream",
     "text": [
      "EYE GIW: [[ 0.698694 -0.276471  0.653543]]\n",
      "EYE GIH:[[-0.22910199  1.30160581  0.42615769]]\n"
     ]
    }
   ],
   "source": [
    "print(\"EYE GIW: %s\\nEYE GIH:%s\" % (eye_L.gazeinhead(), eye_L.gazeinworld()))"
   ]
  },
  {
   "cell_type": "code",
   "execution_count": null,
   "metadata": {
    "collapsed": true
   },
   "outputs": [],
   "source": []
  }
 ],
 "metadata": {
  "kernelspec": {
   "display_name": "Python 3",
   "language": "python",
   "name": "python3"
  },
  "language_info": {
   "codemirror_mode": {
    "name": "ipython",
    "version": 2
   },
   "file_extension": ".py",
   "mimetype": "text/x-python",
   "name": "python",
   "nbconvert_exporter": "python",
   "pygments_lexer": "ipython2",
   "version": "2.7.12"
  }
 },
 "nbformat": 4,
 "nbformat_minor": 2
}
