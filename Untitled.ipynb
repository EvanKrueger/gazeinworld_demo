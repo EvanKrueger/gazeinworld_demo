{
 "cells": [
  {
   "cell_type": "markdown",
   "metadata": {},
   "source": [
    "# Calibration & Validation\n",
    "##### a.) Does the provided intersection of the gaze vector and screen plane match our calculated one? (They should!) \n",
    "##### b.) Does that intersection point match the point at which the subject was really looking?"
   ]
  },
  {
   "cell_type": "markdown",
   "metadata": {},
   "source": [
    "### 1.) Import Data: "
   ]
  },
  {
   "cell_type": "code",
   "execution_count": 1,
   "metadata": {
    "collapsed": true
   },
   "outputs": [],
   "source": [
    "from modules import performparser as parser\n",
    "from modules import tranformtools as tt\n",
    "import numpy as np\n",
    "\n",
    "# define nan var for \"NaN\"-encoded-floats in dataframe\n",
    "# (quirk of how we save experimental data)\n",
    "nan = float(\"NaN\")\n",
    "# read dict file, save as pandas dataframe\n",
    "datafile = parser.dictFileToDataFrame(\"data/2017-4-14-18-36/exp_data-2017-4-14-18-36.dict\")"
   ]
  },
  {
   "cell_type": "markdown",
   "metadata": {},
   "source": [
    "### 2.) Grab Data\n",
    "#### Eye-in-Head, Screen-Distance (assumed to be constant), Gaze-Point, Point-of-Regard"
   ]
  },
  {
   "cell_type": "code",
   "execution_count": 2,
   "metadata": {
    "collapsed": true
   },
   "outputs": [],
   "source": [
    "leftEye = datafile[\"leftEyeMat_4x4\"].apply(tt.convert4x4) # in head frame\n",
    "gazePoint = datafile[\"leftEyeInHead_XYZ\"].apply(tt.convert1x3) # in head frame\n",
    "eye2Screen = 0.0725  # assumed constant 72.5mm"
   ]
  },
  {
   "cell_type": "code",
   "execution_count": 3,
   "metadata": {},
   "outputs": [
    {
     "ename": "NameError",
     "evalue": "name 'maxRange' is not defined",
     "output_type": "error",
     "traceback": [
      "\u001b[0;31m---------------------------------------------------------------------------\u001b[0m",
      "\u001b[0;31mNameError\u001b[0m                                 Traceback (most recent call last)",
      "\u001b[0;32m<ipython-input-3-6d3924b13637>\u001b[0m in \u001b[0;36m<module>\u001b[0;34m()\u001b[0m\n\u001b[1;32m     12\u001b[0m     \u001b[0;32mreturn\u001b[0m \u001b[0mintersectionPoint\u001b[0m\u001b[0;34m\u001b[0m\u001b[0m\n\u001b[1;32m     13\u001b[0m \u001b[0;34m\u001b[0m\u001b[0m\n\u001b[0;32m---> 14\u001b[0;31m \u001b[0;32mfor\u001b[0m \u001b[0mi\u001b[0m \u001b[0;32min\u001b[0m \u001b[0mrange\u001b[0m\u001b[0;34m(\u001b[0m\u001b[0mmaxRange\u001b[0m\u001b[0;34m)\u001b[0m\u001b[0;34m:\u001b[0m\u001b[0;34m\u001b[0m\u001b[0m\n\u001b[0m\u001b[1;32m     15\u001b[0m     \u001b[0mlineNormal\u001b[0m \u001b[0;34m=\u001b[0m \u001b[0;34m[\u001b[0m\u001b[0mnp\u001b[0m\u001b[0;34m.\u001b[0m\u001b[0msubtract\u001b[0m\u001b[0;34m(\u001b[0m\u001b[0mrawTempDataFrame\u001b[0m\u001b[0;34m[\u001b[0m\u001b[0;34m'ballPos'\u001b[0m\u001b[0;34m]\u001b[0m\u001b[0;34m[\u001b[0m\u001b[0mi\u001b[0m\u001b[0;34m:\u001b[0m\u001b[0mi\u001b[0m\u001b[0;34m+\u001b[0m\u001b[0;36m1\u001b[0m\u001b[0;34m]\u001b[0m\u001b[0;34m.\u001b[0m\u001b[0mvalues\u001b[0m\u001b[0;34m,\u001b[0m \u001b[0mrawTempDataFrame\u001b[0m\u001b[0;34m[\u001b[0m\u001b[0;34m'viewPos'\u001b[0m\u001b[0;34m]\u001b[0m\u001b[0;34m[\u001b[0m\u001b[0mi\u001b[0m\u001b[0;34m:\u001b[0m\u001b[0mi\u001b[0m\u001b[0;34m+\u001b[0m\u001b[0;36m1\u001b[0m\u001b[0;34m]\u001b[0m\u001b[0;34m.\u001b[0m\u001b[0mvalues\u001b[0m\u001b[0;34m)\u001b[0m\u001b[0;34m]\u001b[0m\u001b[0;34m\u001b[0m\u001b[0m\n\u001b[1;32m     16\u001b[0m     \u001b[0;31m#print  'Line = ',lineNormal[0]\u001b[0m\u001b[0;34m\u001b[0m\u001b[0;34m\u001b[0m\u001b[0m\n",
      "\u001b[0;31mNameError\u001b[0m: name 'maxRange' is not defined"
     ]
    }
   ],
   "source": [
    "# Kamran's Function\n",
    "\n",
    "def findLinePlaneIntersection(point_0, point_1, line, planeNormal):\n",
    "    s = point_1 - point_0\n",
    "    \n",
    "    numerator = np.inner(s, planeNormal)\n",
    "    denominator = np.inner(line, planeNormal)\n",
    "    \n",
    "    d = np.divide(numerator, denominator)\n",
    "    intersectionPoint = np.multiply(d, line) + point_0\n",
    "    \n",
    "    return intersectionPoint\n",
    "\n",
    "for i in range(maxRange):\n",
    "    lineNormal = [np.subtract(rawTempDataFrame['ballPos'][i:i+1].values, rawTempDataFrame['viewPos'][i:i+1].values)]\n",
    "    #print  'Line = ',lineNormal[0]\n",
    "    rotatedNormalPlane = np.array( np.dot(viewRotMat_fr_mRow_mCol[i], planeNormal))\n",
    "    rotatedScreenCenterPosition = np.dot(viewRotMat_fr_mRow_mCol[i], screenCenterPosition)\n",
    "    tempPos = findLinePlaneIntersection( cameraCenterPosition, lineNormal[0], rotatedNormalPlane, rotatedScreenCenterPosition) \n",
    "    # TODO: I kinda cheated here by {lineNormal[0]}\n",
    "    #print tempPos.shape\n",
    "    #tempPos = np.subtract(tempPos, rotatedPoint1)\n",
    "    ballOnScreen_fr_XYZ = np.vstack((ballOnScreen_fr_XYZ, tempPos[0].T))\n",
    "# TODO: I hate creating an empty variable and deleting it later on, there should be a better way\n",
    "ballOnScreen_fr_XYZ = np.delete(ballOnScreen_fr_XYZ, 0, 0)"
   ]
  },
  {
   "cell_type": "code",
   "execution_count": null,
   "metadata": {
    "collapsed": true
   },
   "outputs": [],
   "source": []
  },
  {
   "cell_type": "markdown",
   "metadata": {},
   "source": [
    "### Plane & Line Intersection"
   ]
  },
  {
   "cell_type": "markdown",
   "metadata": {},
   "source": [
    "##### Parametric Line Equation\n",
    "$$\n",
    "\\begin{gather}\n",
    "L(t) = p + tv\n",
    "\\end{gather}\n",
    "$$"
   ]
  },
  {
   "cell_type": "markdown",
   "metadata": {},
   "source": [
    "##### Plane Equation\n",
    "$$\n",
    "f = [ x \\quad y \\quad z \\quad | \\quad d ] \\\\ \\text{ }\n",
    "$$\n",
    "\n",
    "where:\n",
    "+ n is the normal vector\n",
    "+ d = -n ⋅ q\n",
    "+ q is some point on the plane\n"
   ]
  },
  {
   "cell_type": "markdown",
   "metadata": {},
   "source": [
    "##### Intersection\n",
    "$$\n",
    "q = p - \\frac{f \\dot{} p}{f \\dot{} v} v\n",
    "$$"
   ]
  },
  {
   "cell_type": "code",
   "execution_count": 4,
   "metadata": {
    "collapsed": true
   },
   "outputs": [],
   "source": [
    "# Alternative\n",
    "def intersection(p, v, q, normal):\n",
    "    \n",
    "    d = -np.dot(normal, q)\n",
    "    plane = np.asarray(p.tolist() + [d])\n",
    "    \n",
    "    numerator = np.inner(plane, p)\n",
    "    denominator = np.inner(f, v)\n",
    "    \n",
    "    d = np.divide(numerator, denominator)\n",
    "    intersectionPoint = p - np.multiply(d, v)\n",
    "    \n",
    "    return intersectionPoint"
   ]
  },
  {
   "cell_type": "code",
   "execution_count": null,
   "metadata": {
    "collapsed": true
   },
   "outputs": [],
   "source": []
  },
  {
   "cell_type": "code",
   "execution_count": 9,
   "metadata": {},
   "outputs": [],
   "source": [
    "p = leftEye.apply(tt.getPosition)[0]\n",
    "planeNormal = np.array([0.0, 0.0, -1.0])\n",
    "screenCenterPosition = np.array([0.0, 0.0, eye2Screen])\n",
    "\n",
    "intersectionPoint = findLinePlaneIntersection(p, gazePoint[0], screenCenterPosition, planeNormal)"
   ]
  },
  {
   "cell_type": "code",
   "execution_count": 10,
   "metadata": {},
   "outputs": [
    {
     "name": "stdout",
     "output_type": "stream",
     "text": [
      "[-0.94739467  1.57956231  0.653543  ]\n"
     ]
    }
   ],
   "source": [
    "print(intersectionPoint)"
   ]
  },
  {
   "cell_type": "code",
   "execution_count": null,
   "metadata": {},
   "outputs": [],
   "source": []
  },
  {
   "cell_type": "code",
   "execution_count": null,
   "metadata": {},
   "outputs": [],
   "source": []
  },
  {
   "cell_type": "code",
   "execution_count": null,
   "metadata": {
    "collapsed": true
   },
   "outputs": [],
   "source": []
  },
  {
   "cell_type": "code",
   "execution_count": null,
   "metadata": {
    "collapsed": true
   },
   "outputs": [],
   "source": []
  }
 ],
 "metadata": {
  "kernelspec": {
   "display_name": "Python 3",
   "language": "python",
   "name": "python3"
  },
  "language_info": {
   "codemirror_mode": {
    "name": "ipython",
    "version": 3
   },
   "file_extension": ".py",
   "mimetype": "text/x-python",
   "name": "python",
   "nbconvert_exporter": "python",
   "pygments_lexer": "ipython3",
   "version": "3.5.3"
  }
 },
 "nbformat": 4,
 "nbformat_minor": 2
}
